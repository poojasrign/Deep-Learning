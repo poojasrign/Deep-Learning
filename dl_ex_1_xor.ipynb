{
  "nbformat": 4,
  "nbformat_minor": 0,
  "metadata": {
    "colab": {
      "provenance": [],
      "gpuType": "T4",
      "authorship_tag": "ABX9TyOJmxEhhG73Nee9p/JaAdUL",
      "include_colab_link": true
    },
    "kernelspec": {
      "name": "python3",
      "display_name": "Python 3"
    },
    "language_info": {
      "name": "python"
    },
    "accelerator": "GPU"
  },
  "cells": [
    {
      "cell_type": "markdown",
      "metadata": {
        "id": "view-in-github",
        "colab_type": "text"
      },
      "source": [
        "<a href=\"https://colab.research.google.com/github/poojasrign/Deep-Learning/blob/main/dl_ex_1_xor.ipynb\" target=\"_parent\"><img src=\"https://colab.research.google.com/assets/colab-badge.svg\" alt=\"Open In Colab\"/></a>"
      ]
    },
    {
      "cell_type": "code",
      "source": [
        "import tensorflow as tf\n",
        "import numpy as np\n",
        "\n",
        
        "X = np.array([[0,0], [0,1], [1,0], [1,1]], dtype=np.float32)\n",
        "Y = np.array([[0], [1], [1], [0]], dtype=np.float32)\n",
        "\n",
        
        "model = tf.keras.Sequential([\n",
        "    tf.keras.layers.Dense(8, input_dim=2, activation='tanh'),  # More neurons, tanh helps here\n",
        "    tf.keras.layers.Dense(1, activation='sigmoid')\n",
        "])\n",
        "\n",
      
        "model.compile(optimizer='adam',\n",
        "              loss='binary_crossentropy',\n",
        "              metrics=['accuracy'])\n",
        "\n",
        
        "model.fit(X, Y, epochs=1000, verbose=0)\n",
        "\n",
        
        "predictions = model.predict(X)\n",
        "predicted_classes = (predictions > 0.5).astype(int)\n",
        "\n",
        "print(\"Predictions:\")\n",
        "print(predicted_classes)\n",
        "\n",
        
        "loss, accuracy = model.evaluate(X, Y, verbose=0)\n",
        "print(f\"Accuracy: {accuracy * 100:.2f}%\")\n"
      ],
      "metadata": {
        "colab": {
          "base_uri": "https://localhost:8080/"
        },
        "id": "VVxn4pHdu2VE",
        "outputId": "f3ae6b1c-9f08-4465-9744-9ce346043dc9"
      },
      "execution_count": null,
      "outputs": [
        {
          "output_type": "stream",
          "name": "stdout",
          "text": [
            "\u001b[1m1/1\u001b[0m \u001b[32m━━━━━━━━━━━━━━━━━━━━\u001b[0m\u001b[37m\u001b[0m \u001b[1m0s\u001b[0m 168ms/step\n",
            "Predictions:\n",
            "[[0]\n",
            " [1]\n",
            " [1]\n",
            " [0]]\n",
            "Accuracy: 100.00%\n"
          ]
        }
      ]
    }
  ]
}
